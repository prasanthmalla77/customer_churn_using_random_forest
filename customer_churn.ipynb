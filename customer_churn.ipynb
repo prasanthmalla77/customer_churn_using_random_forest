{
  "nbformat": 4,
  "nbformat_minor": 0,
  "metadata": {
    "colab": {
      "provenance": []
    },
    "kernelspec": {
      "name": "python3",
      "display_name": "Python 3"
    },
    "language_info": {
      "name": "python"
    }
  },
  "cells": [
    {
      "cell_type": "markdown",
      "source": [
        "1. **`import pandas as pd`**:\n",
        "   - This imports the **pandas** library, which is essential for data manipulation and analysis in Python. It helps you work with structured data, such as tables, by creating and manipulating **DataFrames** and **Series**.\n",
        "\n",
        "2. **`from sklearn.model_selection import train_test_split`**:\n",
        "   - This imports the **`train_test_split`** function from **scikit-learn (sklearn)**. It's used to split your dataset into two parts: training data and testing data. The training data is used to train your machine learning model, while the testing data is used to evaluate the model’s performance.\n",
        "\n",
        "3. **`from sklearn.preprocessing import StandardScaler, LabelEncoder`**:\n",
        "   - **`StandardScaler`**: A preprocessing tool that standardizes features by removing the mean and scaling them to unit variance. This is useful when your features have different ranges and you want to normalize them for better model performance.\n",
        "   - **`LabelEncoder`**: This encodes categorical labels into numerical form (e.g., converting 'male' and 'female' to 0 and 1). It's used when machine learning algorithms require numerical input.\n",
        "\n",
        "4. **`from sklearn.ensemble import RandomForestClassifier`**:\n",
        "   - This imports the **RandomForestClassifier**, a machine learning algorithm used for classification tasks. It builds multiple decision trees and merges them to get a more accurate and stable prediction.\n",
        "\n",
        "5. **`from sklearn.metrics import accuracy_score, classification_report, confusion_matrix`**:\n",
        "   - **`accuracy_score`**: A function that calculates the accuracy of the model, which is the ratio of correctly predicted instances to the total instances.\n",
        "   - **`classification_report`**: Provides a detailed report on precision, recall, F1-score, and support for each class in a classification problem.\n",
        "   - **`confusion_matrix`**: A table used to evaluate the performance of a classification algorithm by comparing predicted and actual values, showing true positives, true negatives, false positives, and false negatives.\n",
        "\n",
        "6. **`import numpy as np`**:\n",
        "   - This imports **NumPy**, a library for numerical computing in Python. It's used to handle large multi-dimensional arrays and matrices, as well as perform mathematical operations on them."
      ],
      "metadata": {
        "id": "NMhA0wTLCdRG"
      }
    },
    {
      "cell_type": "code",
      "execution_count": 63,
      "metadata": {
        "id": "yO-LsrLF94oM"
      },
      "outputs": [],
      "source": [
        "import pandas as pd\n",
        "from sklearn.model_selection import train_test_split\n",
        "from sklearn.preprocessing import StandardScaler, LabelEncoder\n",
        "from sklearn.ensemble import RandomForestClassifier\n",
        "from sklearn.metrics import accuracy_score, classification_report, confusion_matrix\n",
        "import numpy as np"
      ]
    },
    {
      "cell_type": "markdown",
      "source": [
        "1. **`data = pd.read_csv(r'/content/Customer-Churn.csv')`**:\n",
        "   - This line reads a CSV (Comma Separated Values) file named **Customer-Churn.csv** from the specified path (`/content/Customer-Churn.csv`) into a pandas DataFrame called **data**.\n",
        "   - The `r` before the file path indicates a **raw string**, ensuring that any special characters (like `\\`) in the file path are treated literally and not as escape characters.\n",
        "\n",
        "2. **`print(data.head())`**:\n",
        "   - The **`head()`** function displays the first 5 rows of the DataFrame (by default). It’s useful for getting a quick overview of the data structure, column names, and the first few entries.\n",
        "   - This will output the top 5 rows of your **Customer-Churn** data.\n",
        "\n",
        "3. **`print(data.isnull().sum())`**:\n",
        "   - **`isnull()`** checks for missing values (NaNs) in each cell of the DataFrame.\n",
        "   - **`sum()`** adds up the number of missing values per column.\n",
        "   - This prints a count of the missing (null) values in each column of the DataFrame, helping you identify which columns have missing data."
      ],
      "metadata": {
        "id": "56k0Hv0kCcB8"
      }
    },
    {
      "cell_type": "code",
      "source": [
        "data = pd.read_csv(r'/content/Customer-Churn.csv')\n",
        "print(data.head())\n",
        "print(data.isnull().sum())"
      ],
      "metadata": {
        "colab": {
          "base_uri": "https://localhost:8080/"
        },
        "id": "LX_gAmQQ-X2a",
        "outputId": "84466698-23dd-4760-c183-cb651dbb1008"
      },
      "execution_count": 64,
      "outputs": [
        {
          "output_type": "stream",
          "name": "stdout",
          "text": [
            "   customerID  gender  SeniorCitizen Partner Dependents  tenure PhoneService  \\\n",
            "0  7590-VHVEG  Female              0     Yes         No       1           No   \n",
            "1  5575-GNVDE    Male              0      No         No      34          Yes   \n",
            "2  3668-QPYBK    Male              0      No         No       2          Yes   \n",
            "3  7795-CFOCW    Male              0      No         No      45           No   \n",
            "4  9237-HQITU  Female              0      No         No       2          Yes   \n",
            "\n",
            "      MultipleLines InternetService OnlineSecurity  ... DeviceProtection  \\\n",
            "0  No phone service             DSL             No  ...               No   \n",
            "1                No             DSL            Yes  ...              Yes   \n",
            "2                No             DSL            Yes  ...               No   \n",
            "3  No phone service             DSL            Yes  ...              Yes   \n",
            "4                No     Fiber optic             No  ...               No   \n",
            "\n",
            "  TechSupport StreamingTV StreamingMovies        Contract PaperlessBilling  \\\n",
            "0          No          No              No  Month-to-month              Yes   \n",
            "1          No          No              No        One year               No   \n",
            "2          No          No              No  Month-to-month              Yes   \n",
            "3         Yes          No              No        One year               No   \n",
            "4          No          No              No  Month-to-month              Yes   \n",
            "\n",
            "               PaymentMethod MonthlyCharges  TotalCharges Churn  \n",
            "0           Electronic check          29.85         29.85    No  \n",
            "1               Mailed check          56.95        1889.5    No  \n",
            "2               Mailed check          53.85        108.15   Yes  \n",
            "3  Bank transfer (automatic)          42.30       1840.75    No  \n",
            "4           Electronic check          70.70        151.65   Yes  \n",
            "\n",
            "[5 rows x 21 columns]\n",
            "customerID          0\n",
            "gender              0\n",
            "SeniorCitizen       0\n",
            "Partner             0\n",
            "Dependents          0\n",
            "tenure              0\n",
            "PhoneService        0\n",
            "MultipleLines       0\n",
            "InternetService     0\n",
            "OnlineSecurity      0\n",
            "OnlineBackup        0\n",
            "DeviceProtection    0\n",
            "TechSupport         0\n",
            "StreamingTV         0\n",
            "StreamingMovies     0\n",
            "Contract            0\n",
            "PaperlessBilling    0\n",
            "PaymentMethod       0\n",
            "MonthlyCharges      0\n",
            "TotalCharges        0\n",
            "Churn               0\n",
            "dtype: int64\n"
          ]
        }
      ]
    },
    {
      "cell_type": "markdown",
      "source": [
        "1. **`label_encoder = LabelEncoder()`**:\n",
        "   - This creates an instance of **LabelEncoder**, which is a tool used to convert categorical labels (like text) into numerical values. This is important because many machine learning algorithms work better with numerical data rather than categorical data.\n",
        "\n",
        "2. **The `for` loop**:\n",
        "   - The loop iterates through a list of columns from your DataFrame `data` that contain categorical data, such as **'gender'**, **'Partner'**, **'InternetService'**, etc. These columns likely contain text labels that need to be transformed into numerical form.\n",
        "   \n",
        "3. **`data[column] = label_encoder.fit_transform(data[column])`**:\n",
        "   - For each column in the list:\n",
        "     - **`fit_transform()`** first fits the label encoder to the unique values in that column, then transforms these values into numeric labels (e.g., 'Male' -> 0, 'Female' -> 1).\n",
        "     - It then assigns the transformed numeric labels back to the same column in the DataFrame.\n",
        "   - For example, if the **'gender'** column has values 'Male' and 'Female', it will be encoded as `0` for 'Male' and `1` for 'Female' (or vice versa, depending on the order encountered by `fit_transform()`).\n",
        "\n",
        "### Purpose:\n",
        "- This step is **encoding categorical features** (those that are text-based) into numerical values to prepare them for machine learning algorithms. By converting them into numbers, the algorithm can process the data effectively."
      ],
      "metadata": {
        "id": "Bv-y4RDaC_Jk"
      }
    },
    {
      "cell_type": "code",
      "source": [
        "label_encoder = LabelEncoder()\n",
        "\n",
        "\n",
        "for column in ['gender', 'Partner', 'Dependents', 'PhoneService', 'MultipleLines',\n",
        "                'InternetService', 'OnlineSecurity', 'OnlineBackup', 'DeviceProtection',\n",
        "                'TechSupport', 'StreamingTV', 'StreamingMovies', 'Contract',\n",
        "                'PaperlessBilling', 'PaymentMethod', 'Churn']:\n",
        "    data[column] = label_encoder.fit_transform(data[column])\n"
      ],
      "metadata": {
        "id": "YN-IkP71-ikT"
      },
      "execution_count": 65,
      "outputs": []
    },
    {
      "cell_type": "markdown",
      "source": [
        "1. **`X = data.drop(columns=['customerID', 'Churn'])`**:\n",
        "   - This creates the **feature matrix** `X` by dropping the **'customerID'** and **'Churn'** columns from the DataFrame `data`.\n",
        "   - The **`customerID`** column is likely a unique identifier for each customer, which doesn’t contribute to the prediction and could lead to overfitting if used.\n",
        "   - The **`Churn`** column contains the target variable (whether the customer has churned or not), which is what we want to predict, so it’s excluded from `X` and stored in `y`.\n",
        "\n",
        "2. **`y = data['Churn']`**:\n",
        "   - This sets `y` as the **target variable** that the model will learn to predict. In this case, `y` contains the values from the **`Churn`** column, which are typically 0 or 1, indicating whether a customer has churned (left the service) or not.\n",
        "\n",
        "### Purpose:\n",
        "- **`X`** is the feature set that the machine learning model will use to learn patterns from (input data), and **`y`** is the target (output data) that the model will predict. This is a typical step in preparing data for a supervised machine learning task where you have a set of features and a corresponding target variable."
      ],
      "metadata": {
        "id": "PN8qFUObDL3l"
      }
    },
    {
      "cell_type": "code",
      "source": [
        "X = data.drop(columns=['customerID', 'Churn'])\n",
        "y = data['Churn']\n"
      ],
      "metadata": {
        "id": "72FoO_1P-4wm"
      },
      "execution_count": 66,
      "outputs": []
    },
    {
      "cell_type": "markdown",
      "source": [
        "1. **`X_train, X_test, y_train, y_test = train_test_split(X, y, test_size=0.2, random_state=42)`**:\n",
        "   - **`train_test_split()`** is a function that splits your data into two parts: one for training the model and one for testing the model.\n",
        "   \n",
        "   - **Parameters**:\n",
        "     - **`X`**: The features or input data (without the target variable).\n",
        "     - **`y`**: The target or output data (the `Churn` column in this case).\n",
        "     - **`test_size=0.2`**: This specifies that 20% of the data will be reserved for testing, and the remaining 80% will be used for training. This ensures the model is trained on a large portion of the data and then tested on unseen data.\n",
        "     - **`random_state=42`**: This is a seed used to ensure the data is split in the same way every time the code is run. Setting this parameter helps make the results reproducible.\n",
        "\n",
        "2. **Output Variables**:\n",
        "   - **`X_train`**: The training set of features.\n",
        "   - **`X_test`**: The testing set of features.\n",
        "   - **`y_train`**: The training set of target values (churn labels).\n",
        "   - **`y_test`**: The testing set of target values (churn labels).\n",
        "\n",
        "### Purpose:\n",
        "- This step splits the data into training and testing sets so that the model can be trained on the **training data** (80%) and its performance can be evaluated on **unseen testing data** (20%). This helps ensure the model generalizes well to new, unseen data, which is critical in building reliable machine learning models."
      ],
      "metadata": {
        "id": "khAVPDEVDc7k"
      }
    },
    {
      "cell_type": "code",
      "source": [
        "X_train, X_test, y_train, y_test = train_test_split(X, y, test_size=0.2, random_state=42)\n"
      ],
      "metadata": {
        "id": "jVnHOquV--6H"
      },
      "execution_count": 67,
      "outputs": []
    },
    {
      "cell_type": "markdown",
      "source": [
        "### 1. **Identify Columns with Object Data Types**:\n",
        "   ```python\n",
        "   object_columns = X_train.select_dtypes(include=['object']).columns\n",
        "   ```\n",
        "   - This line finds all columns in `X_train` that have the **data type `object`**, which usually indicates they contain strings or mixed types.\n",
        "   - These columns could have issues like spaces, non-numeric values, or other formatting problems that need to be resolved before the data can be used in a machine learning model.\n",
        "\n",
        "### 2. **Print Unique Values in Object Columns**:\n",
        "   ```python\n",
        "   for col in object_columns:\n",
        "       print(f\"Unique values in column '{col}': {X_train[col].unique()}\")\n",
        "   ```\n",
        "   - This loop prints the **unique values** in each of the columns identified as having the `object` data type.\n",
        "   - This helps you inspect and identify if there are any unexpected values (such as empty spaces or special characters) that could cause issues during model training.\n",
        "\n",
        "### 3. **Handle Missing or Inconsistent Values in 'TotalCharges' Column**:\n",
        "   ```python\n",
        "   X_train['TotalCharges'] = X_train['TotalCharges'].replace(' ', np.nan).fillna(0)\n",
        "   X_test['TotalCharges'] = X_test['TotalCharges'].replace(' ', np.nan).fillna(0)\n",
        "   ```\n",
        "   - Here, you focus on the `'TotalCharges'` column, assuming it's one of the columns with `object` data type.\n",
        "   - **`replace(' ', np.nan)`**: Replaces any blank spaces (' ') in the column with `NaN` (Not a Number), marking them as missing values.\n",
        "   - **`fillna(0)`**: Fills any missing values (NaNs) with `0`. This ensures that the column does not have any missing or non-numeric values.\n",
        "\n",
        "### 4. **Convert Object Columns to Numeric**:\n",
        "   ```python\n",
        "   for col in object_columns:\n",
        "       try:\n",
        "           X_train[col] = pd.to_numeric(X_train[col])\n",
        "           X_test[col] = pd.to_numeric(X_test[col])\n",
        "       except ValueError:\n",
        "           print(f\"Could not convert column '{col}' to numeric.\")\n",
        "   ```\n",
        "   - This loop attempts to convert each object-type column in both the training (`X_train`) and testing (`X_test`) sets into **numeric** form using `pd.to_numeric()`.\n",
        "   - If a column contains non-numeric values that can't be converted (e.g., if there are strings or special characters), a **`ValueError`** is caught, and a message is printed to indicate the issue.\n",
        "\n",
        "### 5. **Scale the Features**:\n",
        "   ```python\n",
        "   scaler = StandardScaler()\n",
        "   X_train = scaler.fit_transform(X_train)\n",
        "   X_test = scaler.transform(X_test)\n",
        "   ```\n",
        "   - **`StandardScaler()`**: Initializes a scaler that standardizes features by removing the mean and scaling them to unit variance. This ensures that the features are normalized, which is important for many machine learning algorithms.\n",
        "   - **`fit_transform(X_train)`**: Fits the scaler to the training data and then transforms the data by scaling it.\n",
        "   - **`transform(X_test)`**: Uses the same scaling parameters derived from the training data to transform the test data. This ensures consistency between the training and testing sets.\n",
        "\n",
        "### Purpose:\n",
        "- This step ensures that all features are numeric and properly scaled, which is critical for many machine learning algorithms. Handling missing values, converting data types, and scaling features are common preprocessing steps in machine learning pipelines."
      ],
      "metadata": {
        "id": "8Lx3MgedDtqb"
      }
    },
    {
      "source": [
        "object_columns = X_train.select_dtypes(include=['object']).columns\n",
        "\n",
        "for col in object_columns:\n",
        "    print(f\"Unique values in column '{col}': {X_train[col].unique()}\")\n",
        "X_train['TotalCharges'] = X_train['TotalCharges'].replace(' ', np.nan).fillna(0)\n",
        "X_test['TotalCharges'] = X_test['TotalCharges'].replace(' ', np.nan).fillna(0)\n",
        "\n",
        "for col in object_columns:\n",
        "    try:\n",
        "        X_train[col] = pd.to_numeric(X_train[col])\n",
        "        X_test[col] = pd.to_numeric(X_test[col])\n",
        "    except ValueError:\n",
        "        print(f\"Could not convert column '{col}' to numeric.\")\n",
        "\n",
        "# Now you can try scaling again\n",
        "scaler = StandardScaler()\n",
        "X_train = scaler.fit_transform(X_train)\n",
        "X_test = scaler.transform(X_test)"
      ],
      "cell_type": "code",
      "metadata": {
        "colab": {
          "base_uri": "https://localhost:8080/"
        },
        "id": "X2Yzq_ZO_Xvu",
        "outputId": "f28300a8-4eb5-40b6-cb4f-edefafcb87db"
      },
      "execution_count": 68,
      "outputs": [
        {
          "output_type": "stream",
          "name": "stdout",
          "text": [
            "Unique values in column 'TotalCharges': ['1336.8' '5129.45' '23.45' ... '306.05' '1200.15' '457.3']\n"
          ]
        }
      ]
    },
    {
      "cell_type": "markdown",
      "source": [
        "1. **`rf_classifier = RandomForestClassifier(n_estimators=100, random_state=42)`**:\n",
        "   - This line initializes a **RandomForestClassifier**, which is a machine learning algorithm used for classification tasks.\n",
        "   - **`n_estimators=100`**: Specifies the number of **decision trees** (100 in this case) to build in the random forest. The random forest classifier aggregates the predictions of these trees to make the final classification decision. More trees typically lead to a more robust and accurate model.\n",
        "   - **`random_state=42`**: This sets a seed for the random number generator, ensuring that the results are reproducible. Using the same random state will produce the same random splits and model training each time the code is run.\n",
        "\n",
        "2. **`rf_classifier.fit(X_train, y_train)`**:\n",
        "   - This trains (or **fits**) the random forest classifier on the **training data**.\n",
        "   - **`X_train`**: The training features (input data).\n",
        "   - **`y_train`**: The corresponding target values (churn labels, in this case).\n",
        "   - During this process, the algorithm builds multiple decision trees based on different subsets of the training data and features. Each tree makes a prediction, and the final model will aggregate these predictions (usually by majority vote) to classify new data points.\n",
        "\n",
        "### Purpose:\n",
        "- The **RandomForestClassifier** is being trained to learn patterns in the training data. By using multiple decision trees, the model can reduce overfitting and generalize well to unseen data. After training, the model will be ready to make predictions on new or test data."
      ],
      "metadata": {
        "id": "WfxXwAkzEEnY"
      }
    },
    {
      "cell_type": "code",
      "source": [
        "rf_classifier = RandomForestClassifier(n_estimators=100, random_state=42)\n",
        "\n",
        "rf_classifier.fit(X_train, y_train)\n"
      ],
      "metadata": {
        "colab": {
          "base_uri": "https://localhost:8080/",
          "height": 75
        },
        "id": "U5x3G2KW_drG",
        "outputId": "fe3f6f46-f437-4f0e-95fc-9896cf1ce8d9"
      },
      "execution_count": 69,
      "outputs": [
        {
          "output_type": "execute_result",
          "data": {
            "text/plain": [
              "RandomForestClassifier(random_state=42)"
            ],
            "text/html": [
              "<style>#sk-container-id-5 {color: black;}#sk-container-id-5 pre{padding: 0;}#sk-container-id-5 div.sk-toggleable {background-color: white;}#sk-container-id-5 label.sk-toggleable__label {cursor: pointer;display: block;width: 100%;margin-bottom: 0;padding: 0.3em;box-sizing: border-box;text-align: center;}#sk-container-id-5 label.sk-toggleable__label-arrow:before {content: \"▸\";float: left;margin-right: 0.25em;color: #696969;}#sk-container-id-5 label.sk-toggleable__label-arrow:hover:before {color: black;}#sk-container-id-5 div.sk-estimator:hover label.sk-toggleable__label-arrow:before {color: black;}#sk-container-id-5 div.sk-toggleable__content {max-height: 0;max-width: 0;overflow: hidden;text-align: left;background-color: #f0f8ff;}#sk-container-id-5 div.sk-toggleable__content pre {margin: 0.2em;color: black;border-radius: 0.25em;background-color: #f0f8ff;}#sk-container-id-5 input.sk-toggleable__control:checked~div.sk-toggleable__content {max-height: 200px;max-width: 100%;overflow: auto;}#sk-container-id-5 input.sk-toggleable__control:checked~label.sk-toggleable__label-arrow:before {content: \"▾\";}#sk-container-id-5 div.sk-estimator input.sk-toggleable__control:checked~label.sk-toggleable__label {background-color: #d4ebff;}#sk-container-id-5 div.sk-label input.sk-toggleable__control:checked~label.sk-toggleable__label {background-color: #d4ebff;}#sk-container-id-5 input.sk-hidden--visually {border: 0;clip: rect(1px 1px 1px 1px);clip: rect(1px, 1px, 1px, 1px);height: 1px;margin: -1px;overflow: hidden;padding: 0;position: absolute;width: 1px;}#sk-container-id-5 div.sk-estimator {font-family: monospace;background-color: #f0f8ff;border: 1px dotted black;border-radius: 0.25em;box-sizing: border-box;margin-bottom: 0.5em;}#sk-container-id-5 div.sk-estimator:hover {background-color: #d4ebff;}#sk-container-id-5 div.sk-parallel-item::after {content: \"\";width: 100%;border-bottom: 1px solid gray;flex-grow: 1;}#sk-container-id-5 div.sk-label:hover label.sk-toggleable__label {background-color: #d4ebff;}#sk-container-id-5 div.sk-serial::before {content: \"\";position: absolute;border-left: 1px solid gray;box-sizing: border-box;top: 0;bottom: 0;left: 50%;z-index: 0;}#sk-container-id-5 div.sk-serial {display: flex;flex-direction: column;align-items: center;background-color: white;padding-right: 0.2em;padding-left: 0.2em;position: relative;}#sk-container-id-5 div.sk-item {position: relative;z-index: 1;}#sk-container-id-5 div.sk-parallel {display: flex;align-items: stretch;justify-content: center;background-color: white;position: relative;}#sk-container-id-5 div.sk-item::before, #sk-container-id-5 div.sk-parallel-item::before {content: \"\";position: absolute;border-left: 1px solid gray;box-sizing: border-box;top: 0;bottom: 0;left: 50%;z-index: -1;}#sk-container-id-5 div.sk-parallel-item {display: flex;flex-direction: column;z-index: 1;position: relative;background-color: white;}#sk-container-id-5 div.sk-parallel-item:first-child::after {align-self: flex-end;width: 50%;}#sk-container-id-5 div.sk-parallel-item:last-child::after {align-self: flex-start;width: 50%;}#sk-container-id-5 div.sk-parallel-item:only-child::after {width: 0;}#sk-container-id-5 div.sk-dashed-wrapped {border: 1px dashed gray;margin: 0 0.4em 0.5em 0.4em;box-sizing: border-box;padding-bottom: 0.4em;background-color: white;}#sk-container-id-5 div.sk-label label {font-family: monospace;font-weight: bold;display: inline-block;line-height: 1.2em;}#sk-container-id-5 div.sk-label-container {text-align: center;}#sk-container-id-5 div.sk-container {/* jupyter's `normalize.less` sets `[hidden] { display: none; }` but bootstrap.min.css set `[hidden] { display: none !important; }` so we also need the `!important` here to be able to override the default hidden behavior on the sphinx rendered scikit-learn.org. See: https://github.com/scikit-learn/scikit-learn/issues/21755 */display: inline-block !important;position: relative;}#sk-container-id-5 div.sk-text-repr-fallback {display: none;}</style><div id=\"sk-container-id-5\" class=\"sk-top-container\"><div class=\"sk-text-repr-fallback\"><pre>RandomForestClassifier(random_state=42)</pre><b>In a Jupyter environment, please rerun this cell to show the HTML representation or trust the notebook. <br />On GitHub, the HTML representation is unable to render, please try loading this page with nbviewer.org.</b></div><div class=\"sk-container\" hidden><div class=\"sk-item\"><div class=\"sk-estimator sk-toggleable\"><input class=\"sk-toggleable__control sk-hidden--visually\" id=\"sk-estimator-id-5\" type=\"checkbox\" checked><label for=\"sk-estimator-id-5\" class=\"sk-toggleable__label sk-toggleable__label-arrow\">RandomForestClassifier</label><div class=\"sk-toggleable__content\"><pre>RandomForestClassifier(random_state=42)</pre></div></div></div></div></div>"
            ]
          },
          "metadata": {},
          "execution_count": 69
        }
      ]
    },
    {
      "cell_type": "markdown",
      "source": [
        "1. **`y_pred = rf_classifier.predict(X_test)`**:\n",
        "   - This line uses the trained **RandomForestClassifier** model to make predictions on the **test data**.\n",
        "   - **`X_test`**: The feature set from the test dataset, which the model has not seen before.\n",
        "   - **`predict()`**: This method generates predictions based on the patterns learned during training. It applies the trained model to the test features and outputs the predicted class labels for each instance.\n",
        "\n",
        "### Purpose:\n",
        "- **`y_pred`** will contain the predicted labels for the test set, which you can compare to the actual labels (`y_test`) to evaluate the performance of your model. This allows you to assess how well the model generalizes to new, unseen data."
      ],
      "metadata": {
        "id": "v_kHB_BCEPyU"
      }
    },
    {
      "cell_type": "code",
      "source": [
        "y_pred = rf_classifier.predict(X_test)\n"
      ],
      "metadata": {
        "id": "mSCOQtCQ_meP"
      },
      "execution_count": 70,
      "outputs": []
    },
    {
      "cell_type": "markdown",
      "source": [
        "1. **Calculate and Print Accuracy**:\n",
        "   ```python\n",
        "   accuracy = accuracy_score(y_test, y_pred)\n",
        "   print(f'Accuracy: {accuracy:.2f}')\n",
        "   ```\n",
        "   - **`accuracy_score(y_test, y_pred)`**: Computes the accuracy of the model’s predictions by comparing the predicted values (`y_pred`) with the actual values (`y_test`). Accuracy is the proportion of correctly predicted instances out of the total instances.\n",
        "   - **`print(f'Accuracy: {accuracy:.2f}')`**: Prints the accuracy value rounded to two decimal places. This gives a straightforward measure of how often the classifier is correct.\n",
        "\n",
        "2. **Print Classification Report**:\n",
        "   ```python\n",
        "   print('Classification Report:')\n",
        "   print(classification_report(y_test, y_pred))\n",
        "   ```\n",
        "   - **`classification_report(y_test, y_pred)`**: Generates a detailed report of classification metrics, including:\n",
        "     - **Precision**: The ratio of true positive predictions to the total predicted positives. It measures how many of the predicted positives are actually positive.\n",
        "     - **Recall**: The ratio of true positive predictions to the total actual positives. It measures how many of the actual positives were correctly predicted.\n",
        "     - **F1-Score**: The harmonic mean of precision and recall. It provides a single metric that balances both precision and recall.\n",
        "     - **Support**: The number of true instances for each label.\n",
        "   - This report provides a comprehensive view of the classifier's performance across different classes.\n",
        "\n",
        "3. **Print Confusion Matrix**:\n",
        "   ```python\n",
        "   print('Confusion Matrix:')\n",
        "   print(confusion_matrix(y_test, y_pred))\n",
        "   ```\n",
        "   - **`confusion_matrix(y_test, y_pred)`**: Computes the confusion matrix, which shows the counts of true positive, true negative, false positive, and false negative predictions.\n",
        "     - **True Positives (TP)**: Correctly predicted positive instances.\n",
        "     - **True Negatives (TN)**: Correctly predicted negative instances.\n",
        "     - **False Positives (FP)**: Instances incorrectly predicted as positive.\n",
        "     - **False Negatives (FN)**: Instances incorrectly predicted as negative.\n",
        "   - This matrix helps visualize how the model's predictions compare to the actual values and identify areas where the model might be making errors.\n",
        "\n",
        "### Purpose:\n",
        "- These metrics are used to evaluate and interpret the performance of the classification model. Accuracy gives an overall performance measure, while the classification report and confusion matrix provide more detailed insights into how well the model performs across different classes."
      ],
      "metadata": {
        "id": "vEOgNpv4EcFc"
      }
    },
    {
      "cell_type": "code",
      "source": [
        "accuracy = accuracy_score(y_test, y_pred)\n",
        "print(f'Accuracy: {accuracy:.2f}')\n",
        "\n",
        "# Classification report\n",
        "print('Classification Report:')\n",
        "print(classification_report(y_test, y_pred))\n",
        "\n",
        "print('Confusion Matrix:')\n",
        "print(confusion_matrix(y_test, y_pred))\n"
      ],
      "metadata": {
        "colab": {
          "base_uri": "https://localhost:8080/"
        },
        "id": "f1zW_PYN_p3h",
        "outputId": "c0261188-9c66-4738-ccba-54a1d2bf5ac0"
      },
      "execution_count": 71,
      "outputs": [
        {
          "output_type": "stream",
          "name": "stdout",
          "text": [
            "Accuracy: 0.80\n",
            "Classification Report:\n",
            "              precision    recall  f1-score   support\n",
            "\n",
            "           0       0.83      0.91      0.87      1036\n",
            "           1       0.66      0.47      0.55       373\n",
            "\n",
            "    accuracy                           0.80      1409\n",
            "   macro avg       0.74      0.69      0.71      1409\n",
            "weighted avg       0.78      0.80      0.78      1409\n",
            "\n",
            "Confusion Matrix:\n",
            "[[945  91]\n",
            " [197 176]]\n"
          ]
        }
      ]
    },
    {
      "cell_type": "markdown",
      "source": [
        "1. **Prepare a Single Instance for Prediction**:\n",
        "   ```python\n",
        "   single_instance = X_test[0].reshape(1, -1)\n",
        "   ```\n",
        "   - **`X_test[0]`**: This selects the first instance (row) from the test dataset `X_test`.\n",
        "   - **`reshape(1, -1)`**: Reshapes this single instance into a 2D array with one row and as many columns as needed. This is necessary because the `predict()` method expects a 2D array, even if you’re predicting for just one sample.\n",
        "\n",
        "2. **Predict the Class for the Single Instance**:\n",
        "   ```python\n",
        "   single_prediction = rf_classifier.predict(single_instance)\n",
        "   print(f'Predicted class for the single instance: {single_prediction[0]}')\n",
        "   ```\n",
        "   - **`rf_classifier.predict(single_instance)`**: Uses the trained model to predict the class label for the single instance. The result is an array with the predicted class label.\n",
        "   - **`single_prediction[0]`**: Extracts the predicted class label from the array and prints it.\n",
        "\n",
        "3. **Get the Probability for Each Class**:\n",
        "   ```python\n",
        "   single_proba = rf_classifier.predict_proba(single_instance)\n",
        "   print(f'Probability for each class: {single_proba}')\n",
        "   ```\n",
        "   - **`rf_classifier.predict_proba(single_instance)`**: Calculates the probability of each class for the single instance. The result is an array where each element is a list of probabilities corresponding to each class.\n",
        "   - **`print(f'Probability for each class: {single_proba}')`**: Prints the probability values for each class. This shows how confident the model is about the prediction.\n",
        "\n",
        "### Purpose:\n",
        "- **`predict()`** provides the final class label for the instance, which tells you the model’s prediction for that sample.\n",
        "- **`predict_proba()`** gives the probability distribution across all possible classes, allowing you to understand how confident the model is in its prediction. This can be useful for assessing the certainty of the predictions and making decisions based on probability thresholds."
      ],
      "metadata": {
        "id": "y_t-_E8TFPaq"
      }
    },
    {
      "cell_type": "code",
      "source": [
        "single_instance = X_test[0].reshape(1, -1)\n",
        "single_prediction = rf_classifier.predict(single_instance)\n",
        "print(f'Predicted class for the single instance: {single_prediction[0]}')\n",
        "single_proba = rf_classifier.predict_proba(single_instance)\n",
        "print(f'Probability for each class: {single_proba}')\n"
      ],
      "metadata": {
        "colab": {
          "base_uri": "https://localhost:8080/"
        },
        "id": "PqiE8Mx7BWW_",
        "outputId": "ae824add-868b-4ae3-d479-35c39d04c438"
      },
      "execution_count": 72,
      "outputs": [
        {
          "output_type": "stream",
          "name": "stdout",
          "text": [
            "Predicted class for the single instance: 1\n",
            "Probability for each class: [[0.28 0.72]]\n"
          ]
        }
      ]
    },
    {
      "cell_type": "code",
      "source": [],
      "metadata": {
        "id": "nhrFNKCfEjAi"
      },
      "execution_count": 72,
      "outputs": []
    }
  ]
}